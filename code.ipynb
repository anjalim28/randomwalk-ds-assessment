{
 "cells": [
  {
   "cell_type": "markdown",
   "metadata": {},
   "source": [
    "### ANJALI MAHESHWARI\n",
    "### 20BAI10198"
   ]
  },
  {
   "cell_type": "code",
   "execution_count": 44,
   "metadata": {},
   "outputs": [],
   "source": [
    "import pandas as pd\n",
    "import matplotlib.pyplot as plt"
   ]
  },
  {
   "cell_type": "markdown",
   "metadata": {},
   "source": [
    "##### Reading dataset"
   ]
  },
  {
   "cell_type": "code",
   "execution_count": 45,
   "metadata": {},
   "outputs": [],
   "source": [
    "df = pd.read_csv('books.csv')"
   ]
  },
  {
   "cell_type": "markdown",
   "metadata": {},
   "source": [
    "##### 1. How many rows and columns are there in books.csv dataset"
   ]
  },
  {
   "cell_type": "code",
   "execution_count": 46,
   "metadata": {},
   "outputs": [
    {
     "name": "stdout",
     "output_type": "stream",
     "text": [
      "Rows =  399\n",
      "Columns =  24\n"
     ]
    }
   ],
   "source": [
    "print(\"Rows = \", len(df.index))\n",
    "print(\"Columns = \", len(df.columns))"
   ]
  },
  {
   "cell_type": "markdown",
   "metadata": {},
   "source": [
    "##### 2. How many books do not have an original title?"
   ]
  },
  {
   "cell_type": "code",
   "execution_count": 47,
   "metadata": {},
   "outputs": [
    {
     "name": "stdout",
     "output_type": "stream",
     "text": [
      "The number of books with title equal to original title is: 252\n"
     ]
    }
   ],
   "source": [
    "matching_titles_count = (df['title'].str.lower() == df['original_title'].str.lower()).sum()\n",
    "print(f'The number of books with title equal to original title is: {matching_titles_count}')"
   ]
  },
  {
   "cell_type": "markdown",
   "metadata": {},
   "source": [
    "##### 3. How many unique books are present in the dataset ? Evaluate based on the 'book_id' after removing null values in the original_title column."
   ]
  },
  {
   "cell_type": "code",
   "execution_count": 48,
   "metadata": {},
   "outputs": [
    {
     "name": "stdout",
     "output_type": "stream",
     "text": [
      "The number of unique books based on book_id after removing null values in the original_title column is: 363\n"
     ]
    }
   ],
   "source": [
    "# Remove rows with null values in the 'original_title' column\n",
    "df_cleaned = df.dropna(subset=['original_title'])\n",
    "\n",
    "# Count the number of unique books based on 'book_id'\n",
    "unique_books_count = df_cleaned['book_id'].nunique()\n",
    "\n",
    "print(f'The number of unique books based on book_id after removing null values in the original_title column is: {unique_books_count}')\n"
   ]
  },
  {
   "cell_type": "markdown",
   "metadata": {},
   "source": [
    "#### 4. What is the average rating of all the books in the dataset based on ‘average_rating’?"
   ]
  },
  {
   "cell_type": "code",
   "execution_count": 49,
   "metadata": {},
   "outputs": [
    {
     "name": "stdout",
     "output_type": "stream",
     "text": [
      "The average rating of all books is: 3.98\n"
     ]
    }
   ],
   "source": [
    "average_rating = df['average_rating'].mean()\n",
    "print(f'The average rating of all books is: {average_rating:.2f}')"
   ]
  },
  {
   "cell_type": "markdown",
   "metadata": {},
   "source": [
    "##### 5. Find the number of books published in the year ‘2000’ based on the ‘original_publication_year’."
   ]
  },
  {
   "cell_type": "code",
   "execution_count": 50,
   "metadata": {},
   "outputs": [
    {
     "name": "stdout",
     "output_type": "stream",
     "text": [
      "The number of books published in the year 2000 is: 8\n"
     ]
    }
   ],
   "source": [
    "# Converting 'original_publication_year' to string and extracting the year\n",
    "df['original_publication_year'] = df['original_publication_year'].astype(str)\n",
    "df['publication_year'] = df['original_publication_year'].str.extract(r'(\\d{4})')\n",
    "\n",
    "# Count of the number of books published in the year '2000'\n",
    "books_in_2000_count = (df['publication_year'] == '2000').sum()\n",
    "\n",
    "print(f'The number of books published in the year 2000 is: {books_in_2000_count}')"
   ]
  },
  {
   "cell_type": "markdown",
   "metadata": {},
   "source": [
    "##### 6. Which book (title) has the maximum number of ratings based on ‘work_ratings_count’."
   ]
  },
  {
   "cell_type": "code",
   "execution_count": 51,
   "metadata": {},
   "outputs": [
    {
     "name": "stdout",
     "output_type": "stream",
     "text": [
      "The book with the maximum number of ratings is: The Diary of a Young Girl\n"
     ]
    }
   ],
   "source": [
    "max_ratings_title = df.loc[df['work_ratings_count'].idxmax(), 'title']\n",
    "\n",
    "print(f'The book with the maximum number of ratings is: {max_ratings_title}')"
   ]
  },
  {
   "cell_type": "markdown",
   "metadata": {},
   "source": [
    "##### 7. Bucket the average_rating of books into 11 buckets [0, 0.5, 1.0, 1.5, 2.0, 2.5, 3.0, 3.5, 4.0, 4.5, 5.0] with 0.5 decimal rounding (eg: average_rating 3.0 to 3.49 will fall in bucket 3.0). Plot bar graph to show total number of books in each rating bucket."
   ]
  },
  {
   "cell_type": "code",
   "execution_count": 52,
   "metadata": {},
   "outputs": [
    {
     "data": {
      "image/png": "[encoded data removed]",
      "text/plain": [
       "<Figure size 432x288 with 1 Axes>"
      ]
     },
     "metadata": {
      "needs_background": "light"
     },
     "output_type": "display_data"
    }
   ],
   "source": [
    "bins = [0, 0.5, 1.0, 1.5, 2.0, 2.5, 3.0, 3.5, 4.0, 4.5, 5.0]\n",
    "labels = [round(x, 1) for x in bins[1:]]  # Use labels for the rounded values\n",
    "\n",
    "df['rating_bucket'] = pd.cut(df['average_rating'], bins=bins, labels=labels, include_lowest=True)\n",
    "rating_counts = df['rating_bucket'].value_counts().sort_index()\n",
    "\n",
    "plt.bar(rating_counts.index, rating_counts.values, width=0.4, color='blue')\n",
    "plt.xlabel('Average Rating Buckets')\n",
    "plt.ylabel('Number of Books')\n",
    "plt.title('Number of Books in Each Average Rating Bucket')\n",
    "plt.show()"
   ]
  }
 ],
 "metadata": {
  "kernelspec": {
   "display_name": "Python 3",
   "language": "python",
   "name": "python3"
  },
  "language_info": {
   "codemirror_mode": {
    "name": "ipython",
    "version": 3
   },
   "file_extension": ".py",
   "mimetype": "text/x-python",
   "name": "python",
   "nbconvert_exporter": "python",
   "pygments_lexer": "ipython3",
   "version": "3.10.3"
  }
 },
 "nbformat": 4,
 "nbformat_minor": 2
}
